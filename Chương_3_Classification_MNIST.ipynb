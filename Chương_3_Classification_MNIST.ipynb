{
  "nbformat": 4,
  "nbformat_minor": 0,
  "metadata": {
    "colab": {
      "provenance": [],
      "mount_file_id": "1vd5oymS6b1KgoQJ4kBDmC45xEETZ5XEE",
      "authorship_tag": "ABX9TyNqobn0fqOi2RZJiN4Ne9Yt",
      "include_colab_link": true
    },
    "kernelspec": {
      "name": "python3",
      "display_name": "Python 3"
    },
    "language_info": {
      "name": "python"
    }
  },
  "cells": [
    {
      "cell_type": "markdown",
      "metadata": {
        "id": "view-in-github",
        "colab_type": "text"
      },
      "source": [
        "<a href=\"https://colab.research.google.com/github/PhuongTa/hocmay/blob/main/Ch%C6%B0%C6%A1ng_3_Classification_MNIST.ipynb\" target=\"_parent\"><img src=\"https://colab.research.google.com/assets/colab-badge.svg\" alt=\"Open In Colab\"/></a>"
      ]
    },
    {
      "cell_type": "markdown",
      "source": [
        "# Kết Nối + Tải Dữ Liệu"
      ],
      "metadata": {
        "id": "PQ6zsl-pgXY5"
      }
    },
    {
      "cell_type": "code",
      "execution_count": 1,
      "metadata": {
        "colab": {
          "base_uri": "https://localhost:8080/"
        },
        "id": "qRuA0OTlf074",
        "outputId": "032196d7-3310-43b6-9557-df2d553dac6c"
      },
      "outputs": [
        {
          "output_type": "stream",
          "name": "stdout",
          "text": [
            "Drive already mounted at /content/drive; to attempt to forcibly remount, call drive.mount(\"/content/drive\", force_remount=True).\n"
          ]
        }
      ],
      "source": [
        "from google.colab import drive\n",
        "drive.mount('/content/drive')"
      ]
    },
    {
      "cell_type": "code",
      "source": [
        "# IMPORT LIBRARIES\n",
        "import os\n",
        "import numpy as np\n",
        "import pandas as pd\n",
        "\n",
        "import matplotlib as mpl\n",
        "import matplotlib.pyplot as plt\n",
        "%matplotlib inline\n",
        "\n",
        "# to make output stable across runs\n",
        "random_state = 42\n",
        "\n",
        "\n",
        "# Where to save figure\n",
        "PROJECT_ROOT_DIR = \"drive/MyDrive/HOCMAY/working/\"\n",
        "CHAPTER_ID = \"classification\"\n",
        "IMAGES_PATH = os.path.join(PROJECT_ROOT_DIR, \"images\",CHAPTER_ID)\n",
        "os.makedirs(IMAGES_PATH, exist_ok=True)\n",
        "\n",
        "#SOURCE_PATH = 'datasets/mnist'"
      ],
      "metadata": {
        "id": "Ye0QRCxYmHqp"
      },
      "execution_count": 40,
      "outputs": []
    },
    {
      "cell_type": "code",
      "source": [
        "IMAGES_PATH"
      ],
      "metadata": {
        "colab": {
          "base_uri": "https://localhost:8080/",
          "height": 38
        },
        "id": "IW9lBvbF8uDb",
        "outputId": "1810750f-9523-4468-8ed6-fa026a02c1d0"
      },
      "execution_count": 41,
      "outputs": [
        {
          "output_type": "execute_result",
          "data": {
            "text/plain": [
              "'drive/MyDrive/HOCMAY/working/images/classification'"
            ],
            "application/vnd.google.colaboratory.intrinsic+json": {
              "type": "string"
            }
          },
          "metadata": {},
          "execution_count": 41
        }
      ]
    },
    {
      "cell_type": "code",
      "source": [
        "# Function to save figure\n",
        "def save_fig(fig_id, tight_layout = True, fig_extension = 'png', resolution = 300):\n",
        "  path = os.path.join(IMAGES_PATH, fig_id + \".\" + fig_extension)\n",
        "  print(\"Saving figure... \" + fig_id)\n",
        "  if tight_layout:\n",
        "    plt.tight_layout()\n",
        "\n",
        "  plt.savefig(path, format=fig_extension, dpi=resolution)\n",
        "\n"
      ],
      "metadata": {
        "id": "6ahozky6iqA0"
      },
      "execution_count": 3,
      "outputs": []
    },
    {
      "cell_type": "markdown",
      "source": [
        "#MNIST version 1.0"
      ],
      "metadata": {
        "id": "edeecggEoCGe"
      }
    },
    {
      "cell_type": "markdown",
      "source": [
        "**Lưu ý:** từ Scikit-Learn 0.24, theo mặc định thì `fetch_openml()` sẽ trả về một `DataFrame` của Pandas."
      ],
      "metadata": {
        "id": "m_FTiAiTlSSg"
      }
    },
    {
      "cell_type": "code",
      "source": [
        "from sklearn.datasets import fetch_openml\n",
        "mnist = fetch_openml('mnist_784', version=1, as_frame=False)\n",
        "mnist.keys()"
      ],
      "metadata": {
        "colab": {
          "base_uri": "https://localhost:8080/"
        },
        "id": "7ZF3V3sigWhN",
        "outputId": "1e0d0375-56e7-4e8d-f158-52258dc070dc"
      },
      "execution_count": 4,
      "outputs": [
        {
          "output_type": "stream",
          "name": "stderr",
          "text": [
            "/usr/local/lib/python3.10/dist-packages/sklearn/datasets/_openml.py:968: FutureWarning: The default value of `parser` will change from `'liac-arff'` to `'auto'` in 1.4. You can set `parser='auto'` to silence this warning. Therefore, an `ImportError` will be raised from 1.4 if the dataset is dense and pandas is not installed. Note that the pandas parser may return different data types. See the Notes Section in fetch_openml's API doc for details.\n",
            "  warn(\n"
          ]
        },
        {
          "output_type": "execute_result",
          "data": {
            "text/plain": [
              "dict_keys(['data', 'target', 'frame', 'categories', 'feature_names', 'target_names', 'DESCR', 'details', 'url'])"
            ]
          },
          "metadata": {},
          "execution_count": 4
        }
      ]
    },
    {
      "cell_type": "markdown",
      "source": [
        "* data chứa một mảng hai chiều, mỗi hàng ứng với một mẫu dữ liệu và mỗi cột ứng với một đặc trưng\n",
        "* target chứa một mảng các nhãn"
      ],
      "metadata": {
        "id": "GSpiut-Ci_Pe"
      }
    },
    {
      "cell_type": "code",
      "source": [
        "X, y = mnist[\"data\"], mnist[\"target\"]"
      ],
      "metadata": {
        "id": "9fg4R7TCg3SZ"
      },
      "execution_count": 5,
      "outputs": []
    },
    {
      "cell_type": "code",
      "source": [
        "X.shape"
      ],
      "metadata": {
        "colab": {
          "base_uri": "https://localhost:8080/"
        },
        "id": "qr4C2WIWia2R",
        "outputId": "52fa4f5f-a491-43ec-fa52-7290287d86c7"
      },
      "execution_count": 6,
      "outputs": [
        {
          "output_type": "execute_result",
          "data": {
            "text/plain": [
              "(70000, 784)"
            ]
          },
          "metadata": {},
          "execution_count": 6
        }
      ]
    },
    {
      "cell_type": "code",
      "source": [
        "y.shape"
      ],
      "metadata": {
        "colab": {
          "base_uri": "https://localhost:8080/"
        },
        "id": "Z3o93QfPjKuW",
        "outputId": "a36f51c0-a7c8-47e2-f50f-ecc445202e42"
      },
      "execution_count": 7,
      "outputs": [
        {
          "output_type": "execute_result",
          "data": {
            "text/plain": [
              "(70000,)"
            ]
          },
          "metadata": {},
          "execution_count": 7
        }
      ]
    },
    {
      "cell_type": "markdown",
      "source": [
        "MNIST chứa `70,000 ảnh` với `784 đặc trưng` trên từng ảnh.\n",
        "* Lí do là mỗi ảnh chứa `28×28 điểm ảnh`, và mỗi đặc trưng đại diện cho cường độ của một điểm ảnh với giá trị nằm trong khoảng `từ 0 (trắng) đến 255 (đen)`."
      ],
      "metadata": {
        "id": "iGjCBOFTjVuD"
      }
    },
    {
      "cell_type": "code",
      "source": [
        "# Kiểm tra mẫu đầu tiên\n",
        "some_digit = X[0]\n",
        "some_digit_image = some_digit.reshape(28,28)\n",
        "\n",
        "plt.imshow(some_digit_image, cmap= \"binary\")\n",
        "plt.axis(\"off\")\n",
        "plt.show()"
      ],
      "metadata": {
        "colab": {
          "base_uri": "https://localhost:8080/",
          "height": 406
        },
        "id": "f-xuY2DDjLhf",
        "outputId": "1a834a55-0c38-4108-ba04-ddf637e46128"
      },
      "execution_count": 8,
      "outputs": [
        {
          "output_type": "display_data",
          "data": {
            "text/plain": [
              "<Figure size 640x480 with 1 Axes>"
            ],
            "image/png": "[encoded data removed]"
          },
          "metadata": {}
        }
      ]
    },
    {
      "cell_type": "code",
      "source": [
        "y[0]"
      ],
      "metadata": {
        "colab": {
          "base_uri": "https://localhost:8080/",
          "height": 38
        },
        "id": "PYQK-WrIkOEt",
        "outputId": "d42333d4-9419-424f-abcc-f3db5ec2a9bb"
      },
      "execution_count": 9,
      "outputs": [
        {
          "output_type": "execute_result",
          "data": {
            "text/plain": [
              "'5'"
            ],
            "application/vnd.google.colaboratory.intrinsic+json": {
              "type": "string"
            }
          },
          "metadata": {},
          "execution_count": 9
        }
      ]
    },
    {
      "cell_type": "markdown",
      "source": [
        "Các nhãn `(labels)` đang được `lưu trữ dưới dạng dữ liệu chuỗi`, Ta cần `chuyển sang dữ liệu số`."
      ],
      "metadata": {
        "id": "r5XGwZ_OopR3"
      }
    },
    {
      "cell_type": "code",
      "source": [
        "y = y.astype(np.uint8)\n",
        "y[0]"
      ],
      "metadata": {
        "colab": {
          "base_uri": "https://localhost:8080/"
        },
        "id": "EY0Yc8qrkZmr",
        "outputId": "c155a8b9-abf5-402c-fa47-43827ea64bf5"
      },
      "execution_count": 10,
      "outputs": [
        {
          "output_type": "execute_result",
          "data": {
            "text/plain": [
              "5"
            ]
          },
          "metadata": {},
          "execution_count": 10
        }
      ]
    },
    {
      "cell_type": "code",
      "source": [
        "# Plot_digit\n",
        "def plot_digit(data):\n",
        "  image = data.reshape(28,28)\n",
        "  plt.imshow(image, cmap = mpl.cm.binary,\n",
        "             interpolation=\"nearest\")\n",
        "  plt.axis(\"off\")"
      ],
      "metadata": {
        "id": "BXcM2EN7rl21"
      },
      "execution_count": 11,
      "outputs": []
    },
    {
      "cell_type": "code",
      "source": [
        "# plot_digit (extra)\n",
        "def plot_digit(instances, images_per_row=10, **options):\n",
        "  # shape(28,28)\n",
        "  size = 28\n",
        "\n",
        "  # đảm bảo image_per_row không vượt quá số lượng instances\n",
        "  images_per_row = min(len(instances), images_per_row)\n",
        "\n",
        "  # reshape all images in instances\n",
        "  images = [instance.reshape(size, size) for instance in instances]\n",
        "\n",
        "  # Tính số hàng cần thiết để hiển thị tất cả hình ảnh.\n",
        "  n_row_indeed = (len(instances) - 1) // images_per_row + 1\n",
        "                   # (98 - 1 // 10) + 1 = 10\n",
        "\n",
        "  # danh sách images hiển thị\n",
        "  row_images = []\n",
        "\n",
        "  # Tính số lượng hình trống cần thêm vào để đâỳ lưới\n",
        "  n_image_empty = n_row_indeed * images_per_row - len(instances)\n",
        "                  # 10 * 10 - 98 = 2 (ô trống)\n",
        "\n",
        "  # Thêm các hình ảnh rỗng vào cuối danh sách để điền đầy các ô trống.\n",
        "  images.append(np.zeros((size, size * n_image_empty)))\n",
        "\n",
        "  for row in range(n_row_indeed):\n",
        "    # Lấy ra một hàng hình ảnh từ danh sách images.\n",
        "    rimages = images[row * images_per_row : (row + 1) * images_per_row]\n",
        "\n",
        "    # Kết hợp các hình ảnh trong hàng lại thành một hình ảnh lớn và thêm nó vào row_images.\n",
        "    row_images.append(np.concatenate(rimages, axis=1))\n",
        "\n",
        "  # Kết hợp các hàng hình ảnh lại thành một hình ảnh lớn.\n",
        "  image = np.concatenate(row_images, axis=0)\n",
        "\n",
        "  plt.imshow(image, cmap=mpl.cm.binary, **options)\n",
        "  plt.axis(\"off\")"
      ],
      "metadata": {
        "id": "krbkSzjpuxOu"
      },
      "execution_count": 12,
      "outputs": []
    },
    {
      "cell_type": "code",
      "source": [
        "# print first - 100 numbers\n",
        "plt.figure(figsize = (9,9))\n",
        "example_images = X[:100]\n",
        "plot_digit(example_images, images_per_row = 10)\n",
        "\n",
        "save_fig(\"more_digits_plot\")\n",
        "plt.show()"
      ],
      "metadata": {
        "colab": {
          "base_uri": "https://localhost:8080/",
          "height": 923
        },
        "id": "nweIMZIgwPpK",
        "outputId": "a7d7c02e-b470-4418-82df-e6339148052d"
      },
      "execution_count": 42,
      "outputs": [
        {
          "output_type": "stream",
          "name": "stdout",
          "text": [
            "Saving figure... more_digits_plot\n"
          ]
        },
        {
          "output_type": "display_data",
          "data": {
            "text/plain": [
              "<Figure size 900x900 with 1 Axes>"
            ],
            "image/png": "[encoded data removed]"
          },
          "metadata": {}
        }
      ]
    },
    {
      "cell_type": "markdown",
      "source": [
        "Theo `mnist[\"DESCR\"]`: It can be split in a **`training set`** of the first **`60,000 examples`**, and a **`test set`** of `10,000 examples`"
      ],
      "metadata": {
        "id": "XgeyZsW8pZXe"
      }
    },
    {
      "cell_type": "code",
      "source": [
        "X_train, y_train = X[:60000], y[:60000]\n",
        "X_test, y_test = X[60000:], y[60000:]"
      ],
      "metadata": {
        "id": "CPB6QKL2pRfh"
      },
      "execution_count": 14,
      "outputs": []
    },
    {
      "cell_type": "markdown",
      "source": [
        "Ta cần đảm bảo tất cả các fold trong kiểm định chéo sẽ tương tự (không thiếu vài chữ số), và một số thuật toán nhạy cảm với thứ tự mẫu huấn luyện và sẽ hoạt động kém nếu liên tục nhận được nhiều mẫu có cùng nhãn => nên ta sẽ xáo trộn tập huấn luyện.\n",
        "\n",
        "Tuy nhiên, *TẬP HUẤN LUYỆN ĐÃ ĐƯỢC XÁO TRỘN SẴN.*"
      ],
      "metadata": {
        "id": "0bQoVTiSqMXs"
      }
    },
    {
      "cell_type": "markdown",
      "source": [
        "# HUẤN LUYỆN BỘ PHÂN LOẠI NHỊ PHÂN (BINARY CLASSIFICATION)"
      ],
      "metadata": {
        "id": "PptVRhNerXSE"
      }
    },
    {
      "cell_type": "markdown",
      "source": [
        "Bài toán: `Bộ nhận diện số 5\n",
        "- Xác định một chữ số\n",
        "- Chỉ phân biệt giữa hai lớp 5 và không 5"
      ],
      "metadata": {
        "id": "pymGwMlj1HlX"
      }
    },
    {
      "cell_type": "code",
      "source": [
        "y_train_5 =(y_train == 5) # True với tất cả là 5, False với các số khác\n",
        "y_test_5 = (y_test == 5)"
      ],
      "metadata": {
        "id": "jKNbekSfp5HS"
      },
      "execution_count": 15,
      "outputs": []
    },
    {
      "cell_type": "markdown",
      "source": [
        "## Mô hình `(SGD)` Hạ Gradient Ngẫu nhiên (Stochastic Gradient Descent).\n",
        "\n",
        "Ưu điểm là khả năng xử lý tập dữ liệu rất lớn hiệu quả.\n",
        "\n",
        "- Huấn luyện từng mẫu dữ liệu độc lập\n",
        "- Thích hợp cho học trực tuyến."
      ],
      "metadata": {
        "id": "WJBicrSo5q0a"
      }
    },
    {
      "cell_type": "code",
      "source": [
        "from sklearn.linear_model import SGDClassifier\n",
        "\n",
        "sgd_clf = SGDClassifier(random_state = 42) #max_iter=1000, tol=1e-3 #default\n",
        "sgd_clf.fit(X_train, y_train_5)"
      ],
      "metadata": {
        "colab": {
          "base_uri": "https://localhost:8080/",
          "height": 75
        },
        "id": "DIRYwrCQ4uvQ",
        "outputId": "35215e33-7f38-4f7e-d9bd-175cbf55c327"
      },
      "execution_count": 16,
      "outputs": [
        {
          "output_type": "execute_result",
          "data": {
            "text/plain": [
              "SGDClassifier(random_state=42)"
            ],
            "text/html": [
              "<style>#sk-container-id-1 {color: black;background-color: white;}#sk-container-id-1 pre{padding: 0;}#sk-container-id-1 div.sk-toggleable {background-color: white;}#sk-container-id-1 label.sk-toggleable__label {cursor: pointer;display: block;width: 100%;margin-bottom: 0;padding: 0.3em;box-sizing: border-box;text-align: center;}#sk-container-id-1 label.sk-toggleable__label-arrow:before {content: \"▸\";float: left;margin-right: 0.25em;color: #696969;}#sk-container-id-1 label.sk-toggleable__label-arrow:hover:before {color: black;}#sk-container-id-1 div.sk-estimator:hover label.sk-toggleable__label-arrow:before {color: black;}#sk-container-id-1 div.sk-toggleable__content {max-height: 0;max-width: 0;overflow: hidden;text-align: left;background-color: #f0f8ff;}#sk-container-id-1 div.sk-toggleable__content pre {margin: 0.2em;color: black;border-radius: 0.25em;background-color: #f0f8ff;}#sk-container-id-1 input.sk-toggleable__control:checked~div.sk-toggleable__content {max-height: 200px;max-width: 100%;overflow: auto;}#sk-container-id-1 input.sk-toggleable__control:checked~label.sk-toggleable__label-arrow:before {content: \"▾\";}#sk-container-id-1 div.sk-estimator input.sk-toggleable__control:checked~label.sk-toggleable__label {background-color: #d4ebff;}#sk-container-id-1 div.sk-label input.sk-toggleable__control:checked~label.sk-toggleable__label {background-color: #d4ebff;}#sk-container-id-1 input.sk-hidden--visually {border: 0;clip: rect(1px 1px 1px 1px);clip: rect(1px, 1px, 1px, 1px);height: 1px;margin: -1px;overflow: hidden;padding: 0;position: absolute;width: 1px;}#sk-container-id-1 div.sk-estimator {font-family: monospace;background-color: #f0f8ff;border: 1px dotted black;border-radius: 0.25em;box-sizing: border-box;margin-bottom: 0.5em;}#sk-container-id-1 div.sk-estimator:hover {background-color: #d4ebff;}#sk-container-id-1 div.sk-parallel-item::after {content: \"\";width: 100%;border-bottom: 1px solid gray;flex-grow: 1;}#sk-container-id-1 div.sk-label:hover label.sk-toggleable__label {background-color: #d4ebff;}#sk-container-id-1 div.sk-serial::before {content: \"\";position: absolute;border-left: 1px solid gray;box-sizing: border-box;top: 0;bottom: 0;left: 50%;z-index: 0;}#sk-container-id-1 div.sk-serial {display: flex;flex-direction: column;align-items: center;background-color: white;padding-right: 0.2em;padding-left: 0.2em;position: relative;}#sk-container-id-1 div.sk-item {position: relative;z-index: 1;}#sk-container-id-1 div.sk-parallel {display: flex;align-items: stretch;justify-content: center;background-color: white;position: relative;}#sk-container-id-1 div.sk-item::before, #sk-container-id-1 div.sk-parallel-item::before {content: \"\";position: absolute;border-left: 1px solid gray;box-sizing: border-box;top: 0;bottom: 0;left: 50%;z-index: -1;}#sk-container-id-1 div.sk-parallel-item {display: flex;flex-direction: column;z-index: 1;position: relative;background-color: white;}#sk-container-id-1 div.sk-parallel-item:first-child::after {align-self: flex-end;width: 50%;}#sk-container-id-1 div.sk-parallel-item:last-child::after {align-self: flex-start;width: 50%;}#sk-container-id-1 div.sk-parallel-item:only-child::after {width: 0;}#sk-container-id-1 div.sk-dashed-wrapped {border: 1px dashed gray;margin: 0 0.4em 0.5em 0.4em;box-sizing: border-box;padding-bottom: 0.4em;background-color: white;}#sk-container-id-1 div.sk-label label {font-family: monospace;font-weight: bold;display: inline-block;line-height: 1.2em;}#sk-container-id-1 div.sk-label-container {text-align: center;}#sk-container-id-1 div.sk-container {/* jupyter's `normalize.less` sets `[hidden] { display: none; }` but bootstrap.min.css set `[hidden] { display: none !important; }` so we also need the `!important` here to be able to override the default hidden behavior on the sphinx rendered scikit-learn.org. See: https://github.com/scikit-learn/scikit-learn/issues/21755 */display: inline-block !important;position: relative;}#sk-container-id-1 div.sk-text-repr-fallback {display: none;}</style><div id=\"sk-container-id-1\" class=\"sk-top-container\"><div class=\"sk-text-repr-fallback\"><pre>SGDClassifier(random_state=42)</pre><b>In a Jupyter environment, please rerun this cell to show the HTML representation or trust the notebook. <br />On GitHub, the HTML representation is unable to render, please try loading this page with nbviewer.org.</b></div><div class=\"sk-container\" hidden><div class=\"sk-item\"><div class=\"sk-estimator sk-toggleable\"><input class=\"sk-toggleable__control sk-hidden--visually\" id=\"sk-estimator-id-1\" type=\"checkbox\" checked><label for=\"sk-estimator-id-1\" class=\"sk-toggleable__label sk-toggleable__label-arrow\">SGDClassifier</label><div class=\"sk-toggleable__content\"><pre>SGDClassifier(random_state=42)</pre></div></div></div></div></div>"
            ]
          },
          "metadata": {},
          "execution_count": 16
        }
      ]
    },
    {
      "cell_type": "code",
      "source": [
        "sgd_clf.predict([some_digit])"
      ],
      "metadata": {
        "colab": {
          "base_uri": "https://localhost:8080/"
        },
        "id": "-O_BLMtg6UCG",
        "outputId": "812fbcd2-3998-48e8-a5a6-520d9c1b753a"
      },
      "execution_count": 17,
      "outputs": [
        {
          "output_type": "execute_result",
          "data": {
            "text/plain": [
              "array([ True])"
            ]
          },
          "metadata": {},
          "execution_count": 17
        }
      ]
    },
    {
      "cell_type": "markdown",
      "source": [
        "## Sử dụng cross_val_score của sklearn"
      ],
      "metadata": {
        "id": "v4WF-f1H-ceb"
      }
    },
    {
      "cell_type": "code",
      "source": [
        "from sklearn.model_selection import cross_val_score\n",
        "\n",
        "cross_val_score(sgd_clf,X_train, y_train_5, cv=3, scoring=\"accuracy\")"
      ],
      "metadata": {
        "colab": {
          "base_uri": "https://localhost:8080/"
        },
        "id": "Wx5UYuHU6uU0",
        "outputId": "c126e123-4224-4d96-cf16-5afb1dadf57e"
      },
      "execution_count": 18,
      "outputs": [
        {
          "output_type": "execute_result",
          "data": {
            "text/plain": [
              "array([0.95035, 0.96035, 0.9604 ])"
            ]
          },
          "metadata": {},
          "execution_count": 18
        }
      ]
    },
    {
      "cell_type": "markdown",
      "source": [
        "Ta đạt được độ chính xác 95% trên tất cả các fold kiểm định chéo??? - có nên vui mừng?\n",
        "- **Ta cần kiểm tra thêm**"
      ],
      "metadata": {
        "id": "jg5TCpWfBPH5"
      }
    },
    {
      "cell_type": "markdown",
      "source": [
        "Hãy xem thử độ chính xác của một bộ phân loại cực kỳ đơn giản là `gán cho tất cả các ảnh cùng một nhãn “không phải 5”`"
      ],
      "metadata": {
        "id": "JQH5_P9WBpXy"
      }
    },
    {
      "cell_type": "code",
      "source": [
        "from sklearn.base import BaseEstimator\n",
        "\n",
        "class Never5Classier(BaseEstimator):\n",
        "  def fit(self, X, y=None):\n",
        "    \"\"\"\n",
        "    Phương thức không thực hiện bất kỳ việc đào tạo nào và chỉ đơn giản trả về chính bản thân đối tượng.\n",
        "    Điều này phản ánh ý nghĩa của mô hình này: không cần đào tạo, vì nó luôn luôn dự đoán sai\n",
        "    \"\"\"\n",
        "    return self\n",
        "\n",
        "  def predict(self, X):\n",
        "    # Trả về giá trị toàn False vì luôn dự đoán không phải là 5.\n",
        "    return np.zeros((len(X), 1), dtype=bool)"
      ],
      "metadata": {
        "id": "XL6v5lzHBpCK"
      },
      "execution_count": 19,
      "outputs": []
    },
    {
      "cell_type": "code",
      "source": [
        "never_5_clf = Never5Classier()\n",
        "cross_val_score(never_5_clf, X_train, y_train_5, cv=3, scoring= \"accuracy\")"
      ],
      "metadata": {
        "colab": {
          "base_uri": "https://localhost:8080/"
        },
        "id": "Pe3r8OpSCNz2",
        "outputId": "2bc4dcfa-f5b9-41f9-df9c-e020a6bfa1ea"
      },
      "execution_count": 20,
      "outputs": [
        {
          "output_type": "execute_result",
          "data": {
            "text/plain": [
              "array([0.91125, 0.90855, 0.90915])"
            ]
          },
          "metadata": {},
          "execution_count": 20
        }
      ]
    },
    {
      "cell_type": "markdown",
      "source": [
        "* Mô hình này có độ chính xác  trên 90%. **WOW!!!** - Đừng vội mừng\n",
        "\n",
        "* Điều này xảy ra là do chỉ có khoảng 10% số ảnh 5.\n",
        "* Nếu luôn dự đoán một ảnh `không phải 5`, ta sẽ đúng khoảng **90%** số lần."
      ],
      "metadata": {
        "id": "WZ6CtrUAD9bI"
      }
    },
    {
      "cell_type": "markdown",
      "source": [
        "Điều này chứng mình `Accuracy` không phải phép đo chất lượng cho các bộ phân loại `classifier`, đặc biệt là khi ta đang làm việc với tập dữ liệu lệch `Skewed dataset` tức là khi một vài lớp có nhiều dữ liệu hơn các lớp khác."
      ],
      "metadata": {
        "id": "jROoDumuEjSV"
      }
    },
    {
      "cell_type": "markdown",
      "source": [
        "## Hàm đánh giá sử dụng StratifiedKFold\n",
        "- Có chức năng tương tự Cross_val_score.\n",
        "\n",
        "Lớp `StratifiedKFold` thực hiện `lấy mẫu stratified` để tạo ra các fold chứa tỉ lệ đại diện của mỗi lớp. Tại mỗi vòng lặp, đoạn mã tạo một bản sao của bộ phân loại, huấn luyện bản sao đó trên các fold huấn luyện và dự đoán trên fold kiểm tra, rồi sau đó đếm số lượng và tính tỉ lệ dự đoán đúng."
      ],
      "metadata": {
        "id": "CRu9xdkF-h1-"
      }
    },
    {
      "cell_type": "code",
      "source": [
        "from sklearn.model_selection import StratifiedKFold\n",
        "from sklearn.base import clone\n",
        "\n",
        "skfolds = StratifiedKFold(n_splits=3, shuffle= True, random_state=42)\n",
        "scores = []\n",
        "for train_index, test_index in skfolds.split(X_train, y_train_5):\n",
        "  clone_clf = clone(sgd_clf)\n",
        "\n",
        "  X_train_folds = X_train[train_index]\n",
        "  y_train_folds = y_train_5[train_index]\n",
        "  X_test_fold = X_train[test_index]\n",
        "  y_test_fold = y_train_5[test_index]\n",
        "\n",
        "  clone_clf.fit(X_train_folds, y_train_folds)\n",
        "  y_pred = clone_clf.predict(X_test_fold)\n",
        "  n_correct = sum(y_pred == y_test_fold)\n",
        "  scores.append(n_correct / len(y_pred))\n",
        "\n",
        "print(scores)"
      ],
      "metadata": {
        "colab": {
          "base_uri": "https://localhost:8080/"
        },
        "id": "3OB2Qqew-Agb",
        "outputId": "f058fe6d-f3f5-4bfb-b6d2-3c3228882e20"
      },
      "execution_count": 21,
      "outputs": [
        {
          "output_type": "stream",
          "name": "stdout",
          "text": [
            "[0.9669, 0.91625, 0.96785]\n"
          ]
        }
      ]
    },
    {
      "cell_type": "markdown",
      "source": [
        "## Ma trận nhầm lẫn (Confusion matrix)"
      ],
      "metadata": {
        "id": "qzzKZDl2FiMn"
      }
    },
    {
      "cell_type": "code",
      "source": [
        "from sklearn.model_selection import cross_val_predict\n",
        "\n",
        "#cross_val_predict() thực hiện kiểm định chéo K-fold,\n",
        "# nhưng hàm này trả về các dự đoán trên mỗi fold kiểm tra thay vì điểm số đánh giá.\n",
        "\n",
        "y_train_pred = cross_val_predict(sgd_clf, X_train, y_train_5, cv=3)"
      ],
      "metadata": {
        "id": "Vt-P-rN1FQEm"
      },
      "execution_count": 22,
      "outputs": []
    },
    {
      "cell_type": "code",
      "source": [
        "from sklearn.metrics import confusion_matrix\n",
        "confusion_matrix(y_train_5, y_train_pred)"
      ],
      "metadata": {
        "colab": {
          "base_uri": "https://localhost:8080/"
        },
        "id": "OpLLP5S1ACze",
        "outputId": "f6efb88e-44ef-4e45-b362-0679e70fa382"
      },
      "execution_count": 23,
      "outputs": [
        {
          "output_type": "execute_result",
          "data": {
            "text/plain": [
              "array([[53892,   687],\n",
              "       [ 1891,  3530]])"
            ]
          },
          "metadata": {},
          "execution_count": 23
        }
      ]
    },
    {
      "cell_type": "markdown",
      "source": [
        "```\n",
        "                                  Dự đoán\n",
        "    Thực tế          |   Âm tính     |      Dương tính\n",
        "---------------------------------------------------------                       \n",
        "                     |  True-Neg.    |     False-Pos.\n",
        "(`!5`) Âm tính       |   53892      |       687\n",
        "---------------------------------------------------------\n",
        "                     |  False-Neg    |      True-Pos\n",
        "(`5`)  Dương tính    |   1891       |       3530\n",
        "                                                          ^\n",
        "                                                          | Precision\n",
        "                                                <- Recall\n",
        "```\n",
        "\n",
        "- Phép đo độ chính xác của các dự đoán cho lớp dương (precision)\n",
        "  ```\n",
        "  precision = TP / (TP + FP)\n",
        "  ```\n",
        "  \n",
        "  - TP: mẫu dương tính thật.\n",
        "  - FP: mẫu dương tính giả\n",
        "\n",
        "- Độ nhạy (Sensitivity) hoặc tỷ lệ dương tính thật (`true positive rate - TPR)`: là tỷ lệ mẫu dương được phát hiện đúng bởi bộ phân loại.\n",
        "  ```\n",
        "  recall = TP / (TP + FN)\n",
        "  ```\n",
        "  FN: mẫu âm tính giả\n"
      ],
      "metadata": {
        "id": "Yc3zi8LMHm4y"
      }
    },
    {
      "cell_type": "code",
      "source": [
        "y_train_perfect_predictions = y_train_5 # gỉả sử chúng ta đạt được sự hoàn hảo.\n",
        "confusion_matrix(y_train_5, y_train_perfect_predictions)"
      ],
      "metadata": {
        "colab": {
          "base_uri": "https://localhost:8080/"
        },
        "id": "lnXrQ1DEHFC6",
        "outputId": "90205f6f-d5fa-42c3-a397-60faa4f4ad76"
      },
      "execution_count": 24,
      "outputs": [
        {
          "output_type": "execute_result",
          "data": {
            "text/plain": [
              "array([[54579,     0],\n",
              "       [    0,  5421]])"
            ]
          },
          "metadata": {},
          "execution_count": 24
        }
      ]
    },
    {
      "cell_type": "code",
      "source": [
        "from sklearn.metrics import precision_score, recall_score\n",
        "print(\"Độ chính xác: \", precision_score(y_train_5, y_train_pred)) # 3530 / (3530 + 687)\n",
        "\n",
        "print(\"Độ nhạy: \", recall_score(y_train_5, y_train_pred)) # 3530 / (3530 + 1891)\n"
      ],
      "metadata": {
        "colab": {
          "base_uri": "https://localhost:8080/"
        },
        "id": "oDhAwsdw70tY",
        "outputId": "7eaeb859-1889-488b-aa08-967fef8d3685"
      },
      "execution_count": 25,
      "outputs": [
        {
          "output_type": "stream",
          "name": "stdout",
          "text": [
            "Độ chính xác:  0.8370879772350012\n",
            "Độ nhạy:  0.6511713705958311\n"
          ]
        }
      ]
    },
    {
      "cell_type": "markdown",
      "source": [
        "- Trong tổng số lần bộ phân loại: gán nhãn `một ảnh là 5`, nó chỉ đúng `precision: 83.7%` số lần.\n",
        "- Trên tổng `số ảnh số 5`, nó chỉ phát hiện được `recall: 65.1%` số ảnh."
      ],
      "metadata": {
        "id": "wbLwzysi9CJQ"
      }
    },
    {
      "cell_type": "markdown",
      "source": [
        "### F-Score\n",
        "- trung bình điều hoà của recall và precision.\n",
        "- Một bộ phân loại chỉ có thể đạt được `chỉ số F1 cao` nếu `cả presion và recall đều cao`\n",
        "```\n",
        "    F1 = 2 X (precision x recall) / (precision + recall)\n",
        "```    \n",
        "    hoặc\n",
        "```    \n",
        "    F1 = TP / (TP + (FN + FP)/2)\n",
        "```\n"
      ],
      "metadata": {
        "id": "M8BFzCmq-Uze"
      }
    },
    {
      "cell_type": "code",
      "source": [
        "from sklearn.metrics import f1_score\n",
        "\n",
        "f1_scr = f1_score(y_train_5, y_train_pred)\n",
        "print(\"f1_score: \", f1_scr)"
      ],
      "metadata": {
        "colab": {
          "base_uri": "https://localhost:8080/"
        },
        "id": "mwHQLgUt8Rh8",
        "outputId": "25cc9f53-0a9e-4014-9fa4-6a4253ec4bdd"
      },
      "execution_count": 26,
      "outputs": [
        {
          "output_type": "stream",
          "name": "stdout",
          "text": [
            "f1_score:  0.7325171197343846\n"
          ]
        }
      ]
    },
    {
      "cell_type": "markdown",
      "source": [
        "## Precision/Recall Trade off"
      ],
      "metadata": {
        "id": "lJ1UXL7E31eR"
      }
    },
    {
      "cell_type": "code",
      "source": [
        "# Sử dụng decision_function() thay predict(). Trả về số điểm của mỗi mẫu\n",
        "y_scores = sgd_clf.decision_function([some_digit])\n",
        "y_scores"
      ],
      "metadata": {
        "id": "GESAgX6u-UNs",
        "colab": {
          "base_uri": "https://localhost:8080/"
        },
        "outputId": "240de616-5fda-4228-9e43-04c2a26c47bf"
      },
      "execution_count": 28,
      "outputs": [
        {
          "output_type": "execute_result",
          "data": {
            "text/plain": [
              "array([2164.22030239])"
            ]
          },
          "metadata": {},
          "execution_count": 28
        }
      ]
    },
    {
      "cell_type": "code",
      "source": [
        "threshold = 0 # Sử dụng ngưỡng 0 cùng phương thức predict.\n",
        "y_some_digit_pred = (y_scores > threshold)\n",
        "y_some_digit_pred"
      ],
      "metadata": {
        "colab": {
          "base_uri": "https://localhost:8080/"
        },
        "id": "gU3bckl-4YX6",
        "outputId": "8ecb82d8-89b3-466c-a410-cc2f5464d04c"
      },
      "execution_count": 30,
      "outputs": [
        {
          "output_type": "execute_result",
          "data": {
            "text/plain": [
              "array([ True])"
            ]
          },
          "metadata": {},
          "execution_count": 30
        }
      ]
    },
    {
      "cell_type": "code",
      "source": [
        "threshold = 9000\n",
        "y_some_digit_pred = (y_scores > threshold)\n",
        "y_some_digit_pred"
      ],
      "metadata": {
        "colab": {
          "base_uri": "https://localhost:8080/"
        },
        "id": "pBekxcRS4pai",
        "outputId": "e54fbf32-66c2-4ba7-a2cc-1b72f57e857f"
      },
      "execution_count": 31,
      "outputs": [
        {
          "output_type": "execute_result",
          "data": {
            "text/plain": [
              "array([False])"
            ]
          },
          "metadata": {},
          "execution_count": 31
        }
      ]
    },
    {
      "cell_type": "markdown",
      "source": [
        "Kết quả này xác nhận rằng tăng mức ngưỡng sẽ làm giảm recall. Bức ảnh được kiểm tra là chữ số 5, bộ phân loại đã dự đoán đúng khi mức ngưỡng bằng 0, nhưng lại thất bại khi mức ngưỡng tăng lên 9,000."
      ],
      "metadata": {
        "id": "Al5BWL575Pgf"
      }
    },
    {
      "cell_type": "markdown",
      "source": [
        "### Làm sao xác định ngưỡng phù hợp?\n",
        "- Sử dụng cross_val_predict() dự đoán các mẫu trong tập huấn luyện nhưng trả về điểm quyết định thay vì dự đoán."
      ],
      "metadata": {
        "id": "_N-r5-V25V4T"
      }
    },
    {
      "cell_type": "code",
      "source": [
        "y_scores = cross_val_predict(sgd_clf, X_train, y_train_5,\n",
        "                             cv=3, method =\"decision_function\")"
      ],
      "metadata": {
        "id": "bWcXt9un4-oC"
      },
      "execution_count": 34,
      "outputs": []
    },
    {
      "cell_type": "code",
      "source": [
        "from sklearn.metrics import precision_recall_curve\n",
        "\n",
        "precisions, recalls, thresholds = precision_recall_curve(y_train_5, y_scores)"
      ],
      "metadata": {
        "id": "qhfBDHxX5-Pq"
      },
      "execution_count": 37,
      "outputs": []
    },
    {
      "cell_type": "code",
      "source": [
        "# Vẽ đồ thị của precision và recall theo threshold\n",
        "\n",
        "def plot_precision_recall_vs_threshold(preicions, recalls, thresholds):\n",
        "    plt.plot(thresholds, precision[:-1], \"b--\", label=\"precision\")\n",
        "    plt.plot(thresholds, recall[:-1],\"g--\", label=\"recall\")\n",
        "    plt.legend(loc=\"center right\", fontsize=16)\n",
        "    plt.xlabel(\"Threshold\", fontsize=16)\n",
        "    plt.grid(True)\n",
        "    plt.axis([-50000,50000, 0, 1])\n",
        "\n",
        "recall_90_precision= recall[np.argmax(precision >= 0.90)]\n",
        "threshold_90_precision = threshold[np.argmax(precision >=0.90)]\n",
        "\n",
        "\n",
        "plt.figure(figsize=(8,4))\n",
        "plot_precision_recall_vs_threshold(precisions, recalls, thresholds)\n",
        "plt.plot([threshold_90_precision, threshold_90_precision], [0., 0.9], \"r:\")\n",
        "plt.plot([-50000, threshold_90_precision], [0.9, 0.9], \"r:\")\n",
        "plt.plot([-50000, threshold_90_precision], [recall_90_precision, recall_90_precision], \"r:\")\n",
        "plt.plot([threshold_90_precision], [0.9], \"ro\")\n",
        "plt.plot([threshold_90_precision], [recall_90_precision], \"ro\")\n",
        "save_fig(\"precision_recall_vs_threshold_plot\")\n",
        "plt.show()\n"
      ],
      "metadata": {
        "colab": {
          "base_uri": "https://localhost:8080/",
          "height": 424
        },
        "id": "m1OJt5ro7GTF",
        "outputId": "d4ab6264-f819-4a00-febf-8b316179b58e"
      },
      "execution_count": 43,
      "outputs": [
        {
          "output_type": "stream",
          "name": "stdout",
          "text": [
            "Saving figure... precision_recall_vs_threshold_plot\n"
          ]
        },
        {
          "output_type": "display_data",
          "data": {
            "text/plain": [
              "<Figure size 800x400 with 1 Axes>"
            ],
            "image/png": "[encoded data removed]"
          },
          "metadata": {}
        }
      ]
    },
    {
      "cell_type": "code",
      "source": [
        "(y_train_pred == (y_scores > 0)).all()"
      ],
      "metadata": {
        "colab": {
          "base_uri": "https://localhost:8080/"
        },
        "id": "hZ8vd7yz8a8q",
        "outputId": "4ea96168-161d-4df2-9a38-c7d18273cd33"
      },
      "execution_count": 44,
      "outputs": [
        {
          "output_type": "execute_result",
          "data": {
            "text/plain": [
              "True"
            ]
          },
          "metadata": {},
          "execution_count": 44
        }
      ]
    },
    {
      "cell_type": "code",
      "source": [
        "# Vẽ đồ thị precision_recall\n",
        "\n",
        "def plot_precision_recall(precisions, recalls):\n",
        "    plt.plot(recalls, precisions, \"b--\", linewidth=2)\n",
        "    plt.xlabel(\"Recall\", fontsize=16)\n",
        "    plt.ylabel(\"Precision\", fontsize=16)\n",
        "    plt.axis([0,1,0,1])\n",
        "    plt.grid(True)\n",
        "\n",
        "plt.figure(figsize=(8,6))\n",
        "plot_precision_recall(precisions, recalls)\n",
        "plt.plot([recall_90_precision, recall_90_precision], [0.,0.9],\"r:\")\n",
        "plt.plot([0.0, recall_90_precision],[0.9,0.9], \"r:\")\n",
        "save_fig(\"precision_vs_recall_plot\")\n",
        "plt.show()\n"
      ],
      "metadata": {
        "colab": {
          "base_uri": "https://localhost:8080/",
          "height": 623
        },
        "id": "ZmmoFujhC9wW",
        "outputId": "45d45366-1471-4495-d572-3d630f50d74d"
      },
      "execution_count": 48,
      "outputs": [
        {
          "output_type": "stream",
          "name": "stdout",
          "text": [
            "Saving figure... precision_vs_recall_plot\n"
          ]
        },
        {
          "output_type": "display_data",
          "data": {
            "text/plain": [
              "<Figure size 800x600 with 1 Axes>"
            ],
            "image/png": "[encoded data removed]"
          },
          "metadata": {}
        }
      ]
    },
    {
      "cell_type": "markdown",
      "source": [
        "- Có thể thấy `Precision` bắt đầu giảm nhanh ở khoảng `Recall 80%`.\n",
        "- Ta có thể chọn 1 mức `Precision/Recall Trade off` ở trước đó. VD: 60% - tuỳ thuộc vào dự án cụ thể"
      ],
      "metadata": {
        "id": "SCFh2DeBFgzC"
      }
    },
    {
      "cell_type": "code",
      "source": [
        "# np.argmax() cho ta chỉ số đầu tiên của giá trị lớn nhất\n",
        "# (giá trị True đầu tiên trong trường hợp này)\n",
        "threshold_90_precision = thresholds[np.argmax(precisions >= 0.90)] #~3370\n",
        "threshold_90_precision"
      ],
      "metadata": {
        "colab": {
          "base_uri": "https://localhost:8080/"
        },
        "id": "WyoLnPwCECRd",
        "outputId": "735413c2-9775-4e2e-ccf7-a34e1adae1f7"
      },
      "execution_count": 52,
      "outputs": [
        {
          "output_type": "execute_result",
          "data": {
            "text/plain": [
              "3370.0194991439557"
            ]
          },
          "metadata": {},
          "execution_count": 52
        }
      ]
    },
    {
      "cell_type": "code",
      "source": [
        "y_train_pred_90=(y_scores >= threshold_90_precision)\n",
        "y_train_pred_90"
      ],
      "metadata": {
        "colab": {
          "base_uri": "https://localhost:8080/"
        },
        "id": "5OyWDJP2HNxc",
        "outputId": "ddbfa893-0158-496a-d50d-ec8d53abe885"
      },
      "execution_count": 55,
      "outputs": [
        {
          "output_type": "execute_result",
          "data": {
            "text/plain": [
              "array([False, False, False, ...,  True, False, False])"
            ]
          },
          "metadata": {},
          "execution_count": 55
        }
      ]
    },
    {
      "cell_type": "code",
      "source": [
        "precision_score(y_train_5, y_train_pred_90)"
      ],
      "metadata": {
        "colab": {
          "base_uri": "https://localhost:8080/"
        },
        "id": "FEzn8DoPgpck",
        "outputId": "77eb99cd-88b4-47cc-b2ba-9cf2499a88d7"
      },
      "execution_count": 56,
      "outputs": [
        {
          "output_type": "execute_result",
          "data": {
            "text/plain": [
              "0.9000345901072293"
            ]
          },
          "metadata": {},
          "execution_count": 56
        }
      ]
    },
    {
      "cell_type": "code",
      "source": [
        "recall_score(y_train_5, y_train_pred_90)"
      ],
      "metadata": {
        "colab": {
          "base_uri": "https://localhost:8080/"
        },
        "id": "wiNINQP4gyrz",
        "outputId": "ba707378-9a6e-4087-d599-a6d0fbf604cb"
      },
      "execution_count": 57,
      "outputs": [
        {
          "output_type": "execute_result",
          "data": {
            "text/plain": [
              "0.4799852425751706"
            ]
          },
          "metadata": {},
          "execution_count": 57
        }
      ]
    },
    {
      "cell_type": "markdown",
      "source": [
        "Tìm mức recall ở Precision 60%"
      ],
      "metadata": {
        "id": "vXK4OgMjg_6F"
      }
    },
    {
      "cell_type": "code",
      "source": [
        "threshold_60_precision = threshold[np.argmax(precision >= 0.60)]\n",
        "threshold_60_precision"
      ],
      "metadata": {
        "colab": {
          "base_uri": "https://localhost:8080/"
        },
        "id": "ZgZ9Ldsyg2y7",
        "outputId": "e6ff87e5-a370-4ea6-ed44-e9d234d99c44"
      },
      "execution_count": 59,
      "outputs": [
        {
          "output_type": "execute_result",
          "data": {
            "text/plain": [
              "-5411.202076230331"
            ]
          },
          "metadata": {},
          "execution_count": 59
        }
      ]
    },
    {
      "cell_type": "code",
      "source": [
        "y_train_pred_60 = (y_scores >= threshold_60_precision)\n",
        "y_train_pred_60"
      ],
      "metadata": {
        "colab": {
          "base_uri": "https://localhost:8080/"
        },
        "id": "8XL1WakEh3TD",
        "outputId": "1ad39417-3883-4b0c-981f-e6ff5b998da8"
      },
      "execution_count": 61,
      "outputs": [
        {
          "output_type": "execute_result",
          "data": {
            "text/plain": [
              "array([ True, False, False, ...,  True, False, False])"
            ]
          },
          "metadata": {},
          "execution_count": 61
        }
      ]
    },
    {
      "cell_type": "code",
      "source": [
        "precision_score(y_train_5, y_train_pred_60)"
      ],
      "metadata": {
        "colab": {
          "base_uri": "https://localhost:8080/"
        },
        "id": "V5eMGx3qiFij",
        "outputId": "a7fbb9d7-931d-483f-fbdf-579062c29bcc"
      },
      "execution_count": 62,
      "outputs": [
        {
          "output_type": "execute_result",
          "data": {
            "text/plain": [
              "0.6000255819902789"
            ]
          },
          "metadata": {},
          "execution_count": 62
        }
      ]
    },
    {
      "cell_type": "code",
      "source": [
        "recall_score(y_train_5, y_train_pred_60)"
      ],
      "metadata": {
        "colab": {
          "base_uri": "https://localhost:8080/"
        },
        "id": "En2fmrcUiTVy",
        "outputId": "72902f0f-a06b-4afe-8787-ed14d55ca3be"
      },
      "execution_count": 63,
      "outputs": [
        {
          "output_type": "execute_result",
          "data": {
            "text/plain": [
              "0.8653384984320236"
            ]
          },
          "metadata": {},
          "execution_count": 63
        }
      ]
    },
    {
      "cell_type": "markdown",
      "source": [
        "## Đường Cong ROC (Receiver Operating Characteristic)\n",
        "\n",
        "- Vẽ tỷ lệ dương tính thật `(True Positive Rate TPR - recall)` theo tỷ lệ dương tính giả `(False Positive Rate - FPR)`\n",
        "\n",
        "- **FPR**: là tỷ lệ các mẫu âm tính bị phân loại sai thành dương tính và bằng 1.\n",
        "- **TNR**: là tỷ lệ các mẫu âm tính được phân loại đúng. `(specificity)`\n",
        "\n",
        "- Do đó, ROC là biểu đồ thể hiện `sensitivity - recall` theo `1 - specificity`"
      ],
      "metadata": {
        "id": "wrIWgI95irJH"
      }
    },
    {
      "cell_type": "code",
      "source": [
        "from sklearn.metrics import roc_curve\n",
        "\n",
        "fpr, tpr, threshold = roc_curve(y_train_5, y_scores)"
      ],
      "metadata": {
        "id": "462jn9sAiXCK"
      },
      "execution_count": 66,
      "outputs": []
    },
    {
      "cell_type": "code",
      "source": [
        "def plot_roc_curve(fpr, tpr, label=None):\n",
        "    plt.plot(fpr, tpr, linewidth=2, label=label)\n",
        "    plt.plot([0,1],[0,1], \"k--\")\n",
        "    plt.axis([0,1,0,1])\n",
        "    plt.xlabel(\"FPR\", fontsize=16)\n",
        "    plt.ylabel(\"TPR (Recall)\", fontsize=16)\n",
        "    plt.grid(True)\n",
        "\n",
        "\n",
        "plt.figure(figsize=(8,6))\n",
        "plot_roc_curve(fpr, tpr)\n",
        "fpr_90 = fpr[np.argmax(tpr >= recall_90_precision)]\n",
        "plt.plot([fpr_90, fpr_90],[0., recall_90_precision],\"r:\")\n",
        "plt.plot([0.0, fpr_90], [recall_90_precision, recall_90_precision], \"r:\")\n",
        "plt.plot([fpr_90],[recall_90_precision],\"ro\")\n",
        "save_fig(\"roc_curve_plot\")\n",
        "plt.show()\n",
        "\n"
      ],
      "metadata": {
        "colab": {
          "base_uri": "https://localhost:8080/",
          "height": 623
        },
        "id": "u60RQbvekR2S",
        "outputId": "9803d286-96ac-4aa6-8696-b36e5ce7e3b2"
      },
      "execution_count": 81,
      "outputs": [
        {
          "output_type": "stream",
          "name": "stdout",
          "text": [
            "Saving figure... roc_curve_plot\n"
          ]
        },
        {
          "output_type": "display_data",
          "data": {
            "text/plain": [
              "<Figure size 800x600 with 1 Axes>"
            ],
            "image/png": "[encoded data removed]"
          },
          "metadata": {}
        }
      ]
    },
    {
      "cell_type": "markdown",
      "source": [
        "Đường cong ROC vẽ tỷ lệ FPR theo tỷ lệ TPR cho tất cả các mức ngưỡng khả dĩ. Hình tròn đỏ đánh dấu mức ngưỡng được chọn `(có recall 43.68%)`"
      ],
      "metadata": {
        "id": "99mntOexpfcp"
      }
    },
    {
      "cell_type": "code",
      "source": [
        "fpr_90"
      ],
      "metadata": {
        "colab": {
          "base_uri": "https://localhost:8080/"
        },
        "id": "CgDmTiq6lpt7",
        "outputId": "caf0ba77-0990-4b8e-a996-5d9f9b4717ed"
      },
      "execution_count": 75,
      "outputs": [
        {
          "output_type": "execute_result",
          "data": {
            "text/plain": [
              "0.005295076861063779"
            ]
          },
          "metadata": {},
          "execution_count": 75
        }
      ]
    },
    {
      "cell_type": "code",
      "source": [
        "recall_90_precision"
      ],
      "metadata": {
        "colab": {
          "base_uri": "https://localhost:8080/"
        },
        "id": "lOZ2IvvsoY9F",
        "outputId": "47108284-784f-49d8-94b3-7f267528da55"
      },
      "execution_count": 76,
      "outputs": [
        {
          "output_type": "execute_result",
          "data": {
            "text/plain": [
              "0.4799852425751706"
            ]
          },
          "metadata": {},
          "execution_count": 76
        }
      ]
    },
    {
      "cell_type": "markdown",
      "source": [
        "## Chú ý:\n",
        "👉 Vì `ROC curve` rất giống với `Precision/Recall (PR) ` vậy ta sẽ sử dụng đường cong nào?\n",
        "\n",
        "- `Chọn đường PR` khi nào `số lượng mẫu dương ít` / `bạn quan tâm đến dương tính giả  (PN) hơn là âm tính giả (FN)`.\n",
        "- Không thì `sử dụng đường ROC`."
      ],
      "metadata": {
        "id": "baTZfAXerz_3"
      }
    },
    {
      "cell_type": "markdown",
      "source": [
        "👉 - Sau khi quan sát đường cong ROC ở phía trên và điểm ROC-AUC ta có thể nghĩ bộ phân loại này rất tốt.\n",
        "\n",
        "👉 - Nhưng điều này phần lớn là vì ta có ít mẫu dương (hình ảnh số 5) hơn các số mẫu âm (không phải 5).\n",
        "\n",
        "👉 - Ngược lại, từ đường cong PR ta có thể thấy rõ rằng bộ phân loại này vẫn có thể được cải thiện. Đường cong có thể gần góc trên bên phải hơn nữa.)"
      ],
      "metadata": {
        "id": "Xg7yyv_usAve"
      }
    },
    {
      "cell_type": "markdown",
      "source": [
        "## AUC (Area under the curve)\n",
        "\n",
        "- Một bộ phân loại `hoàn hảo sẽ có ROC AUC = 1`\n",
        "- Một bộ phân loại `ngẫu nhiên sẽ có ROC AUC = 0.5`"
      ],
      "metadata": {
        "id": "Q1BLSNBap7gd"
      }
    },
    {
      "cell_type": "code",
      "source": [
        "from sklearn.metrics import roc_auc_score\n",
        "\n",
        "roc_auc_score(y_train_5, y_scores)"
      ],
      "metadata": {
        "colab": {
          "base_uri": "https://localhost:8080/"
        },
        "id": "21U6tGjaoebv",
        "outputId": "68af1a10-a2b8-4bd9-c6a3-6c0edb89b38f"
      },
      "execution_count": 82,
      "outputs": [
        {
          "output_type": "execute_result",
          "data": {
            "text/plain": [
              "0.9604938554008616"
            ]
          },
          "metadata": {},
          "execution_count": 82
        }
      ]
    },
    {
      "cell_type": "code",
      "source": [],
      "metadata": {
        "id": "NHv4O_r7qRkg"
      },
      "execution_count": null,
      "outputs": []
    }
  ]
}